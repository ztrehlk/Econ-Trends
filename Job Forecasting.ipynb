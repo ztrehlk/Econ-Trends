{
 "cells": [
  {
   "cell_type": "markdown",
   "metadata": {},
   "source": [
    "# Forecasting\n",
    "\n",
    "This page is largely used as a sandbox for creating functions and tools to achieve a streamlined method of pulling data from Fred API, performing feature engineering, and ultimately building out predictions to be able to forecast and prove effective forecasts accuracy.\n",
    "\n",
    "Below I import some packages that I will be using to build these functions out."
   ]
  },
  {
   "cell_type": "code",
   "execution_count": 1,
   "metadata": {},
   "outputs": [],
   "source": [
    "import sklearn\n",
    "from sklearn.model_selection import train_test_split\n",
    "from sklearn.tree import DecisionTreeRegressor\n",
    "import requests\n",
    "import pandas as pd\n",
    "import numpy as np\n",
    "import plotly.express as px\n",
    "from sklearn.preprocessing import StandardScaler\n",
    "import polars as pl"
   ]
  },
  {
   "cell_type": "markdown",
   "metadata": {},
   "source": [
    "Now I will import the functions that I have already made (and hopefully already effectively documented). Currently I have the following:\n",
    "- fred_req(api_key, series_id): gathers data on a given series in it's raw format.\n",
    "- fred_series_details(api_key, series_id): gathers metadata on a series.\n",
    "- full_fred_dataframe(api_key, series_id_list): provides an outer-joined dataframe of all desired variables."
   ]
  },
  {
   "cell_type": "code",
   "execution_count": 1,
   "metadata": {},
   "outputs": [],
   "source": [
    "from main import fred_req, fred_series_details, full_fred_dataframe, get_prices_daily, daily_stock_df, day_to_month_col, monthly_stock_df"
   ]
  },
  {
   "cell_type": "code",
   "execution_count": 4,
   "metadata": {},
   "outputs": [],
   "source": [
    "ticker = \"XLK\"\n",
    "\n",
    "\n"
   ]
  },
  {
   "cell_type": "code",
   "execution_count": 2,
   "metadata": {},
   "outputs": [
    {
     "data": {
      "text/html": [
       "<div><style>\n",
       ".dataframe > thead > tr,\n",
       ".dataframe > tbody > tr {\n",
       "  text-align: right;\n",
       "  white-space: pre-wrap;\n",
       "}\n",
       "</style>\n",
       "<small>shape: (301, 64)</small><table border=\"1\" class=\"dataframe\"><thead><tr><th>date</th><th>first_volume</th><th>last_volume</th><th>min_volume</th><th>max_volume</th><th>mean_volume</th><th>median_volume</th><th>sum_volume</th><th>quantile_25_volume</th><th>quantile_75_volume</th><th>first_open</th><th>last_open</th><th>min_open</th><th>max_open</th><th>mean_open</th><th>median_open</th><th>sum_open</th><th>quantile_25_open</th><th>quantile_75_open</th><th>first_close</th><th>last_close</th><th>min_close</th><th>max_close</th><th>mean_close</th><th>median_close</th><th>sum_close</th><th>quantile_25_close</th><th>quantile_75_close</th><th>first_high</th><th>last_high</th><th>min_high</th><th>max_high</th><th>mean_high</th><th>median_high</th><th>sum_high</th><th>quantile_25_high</th><th>quantile_75_high</th><th>first_low</th><th>last_low</th><th>min_low</th><th>max_low</th><th>mean_low</th><th>median_low</th><th>sum_low</th><th>quantile_25_low</th><th>quantile_75_low</th><th>first_H-L</th><th>last_H-L</th><th>min_H-L</th><th>max_H-L</th><th>mean_H-L</th><th>median_H-L</th><th>sum_H-L</th><th>quantile_25_H-L</th><th>quantile_75_H-L</th><th>first_C-O</th><th>last_C-O</th><th>min_C-O</th><th>max_C-O</th><th>mean_C-O</th><th>median_C-O</th><th>sum_C-O</th><th>quantile_25_C-O</th><th>quantile_75_C-O</th></tr><tr><td>date</td><td>i64</td><td>i64</td><td>i64</td><td>i64</td><td>f64</td><td>f64</td><td>i64</td><td>f64</td><td>f64</td><td>f64</td><td>f64</td><td>f64</td><td>f64</td><td>f64</td><td>f64</td><td>f64</td><td>f64</td><td>f64</td><td>f64</td><td>f64</td><td>f64</td><td>f64</td><td>f64</td><td>f64</td><td>f64</td><td>f64</td><td>f64</td><td>f64</td><td>f64</td><td>f64</td><td>f64</td><td>f64</td><td>f64</td><td>f64</td><td>f64</td><td>f64</td><td>f64</td><td>f64</td><td>f64</td><td>f64</td><td>f64</td><td>f64</td><td>f64</td><td>f64</td><td>f64</td><td>f64</td><td>f64</td><td>f64</td><td>f64</td><td>f64</td><td>f64</td><td>f64</td><td>f64</td><td>f64</td><td>f64</td><td>f64</td><td>f64</td><td>f64</td><td>f64</td><td>f64</td><td>f64</td><td>f64</td><td>f64</td></tr></thead><tbody><tr><td>1998-12-01</td><td>300500</td><td>77200</td><td>77200</td><td>338300</td><td>212628.571429</td><td>243700.0</td><td>1488400</td><td>123800.0</td><td>309300.0</td><td>32.40625</td><td>32.75</td><td>32.40625</td><td>33.1875</td><td>32.790179</td><td>32.75</td><td>229.53125</td><td>32.75</td><td>32.9375</td><td>32.046875</td><td>32.625</td><td>32.046875</td><td>32.875</td><td>32.654018</td><td>32.75</td><td>228.578125</td><td>32.6875</td><td>32.8125</td><td>32.5</td><td>32.90625</td><td>32.5</td><td>33.1875</td><td>32.910714</td><td>32.90625</td><td>230.375</td><td>32.8125</td><td>33.140625</td><td>31.78125</td><td>32.34375</td><td>31.78125</td><td>32.59375</td><td>32.359375</td><td>32.5</td><td>226.515625</td><td>32.34375</td><td>32.578125</td><td>0.71875</td><td>0.5625</td><td>0.25</td><td>0.71875</td><td>0.551339</td><td>0.5625</td><td>3.859375</td><td>0.5625</td><td>0.65625</td><td>-0.359375</td><td>-0.125</td><td>-0.40625</td><td>0.0625</td><td>-0.136161</td><td>-0.125</td><td>-0.953125</td><td>-0.125</td><td>0.0625</td></tr><tr><td>1999-01-01</td><td>650600</td><td>933600</td><td>295200</td><td>1492900</td><td>758331.578947</td><td>650600.0</td><td>14408300</td><td>532800.0</td><td>946600.0</td><td>32.65625</td><td>37.375</td><td>32.0</td><td>37.375</td><td>35.154605</td><td>35.5</td><td>667.9375</td><td>34.5</td><td>36.25</td><td>33.0</td><td>37.8125</td><td>33.0</td><td>37.8125</td><td>35.222862</td><td>34.875</td><td>669.234375</td><td>34.734375</td><td>36.0</td><td>33.5625</td><td>37.84375</td><td>33.5625</td><td>37.84375</td><td>35.744243</td><td>35.5625</td><td>679.140625</td><td>35.03125</td><td>36.8125</td><td>32.59375</td><td>36.9375</td><td>32.0</td><td>36.9375</td><td>34.632401</td><td>34.484375</td><td>658.015625</td><td>34.265625</td><td>35.75</td><td>0.96875</td><td>0.90625</td><td>0.53125</td><td>3.15625</td><td>1.111842</td><td>1.015625</td><td>21.125</td><td>0.953125</td><td>1.1875</td><td>0.34375</td><td>0.4375</td><td>-1.25</td><td>2.25</td><td>0.068257</td><td>0.171875</td><td>1.296875</td><td>-0.5625</td><td>0.515625</td></tr><tr><td>1999-02-01</td><td>913000</td><td>2342600</td><td>913000</td><td>2917400</td><td>1.9880e6</td><td>2.0655e6</td><td>37772500</td><td>1.6736e6</td><td>2.5005e6</td><td>38.15625</td><td>35.0625</td><td>33.75</td><td>38.15625</td><td>35.735197</td><td>35.75</td><td>678.96875</td><td>34.65625</td><td>36.375</td><td>37.84375</td><td>34.0625</td><td>33.84375</td><td>37.84375</td><td>35.412007</td><td>35.125</td><td>672.828125</td><td>34.625</td><td>36.1875</td><td>38.375</td><td>35.125</td><td>34.40625</td><td>38.375</td><td>36.172697</td><td>36.03125</td><td>687.28125</td><td>35.40625</td><td>36.5</td><td>37.5625</td><td>33.75</td><td>33.34375</td><td>37.5625</td><td>34.911184</td><td>34.59375</td><td>663.3125</td><td>34.25</td><td>35.5625</td><td>0.8125</td><td>1.375</td><td>0.71875</td><td>1.875</td><td>1.261513</td><td>1.3125</td><td>23.96875</td><td>1.15625</td><td>1.40625</td><td>-0.3125</td><td>-1.0</td><td>-1.5625</td><td>0.96875</td><td>-0.323191</td><td>-0.28125</td><td>-6.140625</td><td>-0.796875</td><td>0.15625</td></tr><tr><td>1999-03-01</td><td>1092100</td><td>774700</td><td>321400</td><td>3199100</td><td>1.0632e6</td><td>836000.0</td><td>24454200</td><td>616700.0</td><td>1.4986e6</td><td>33.625</td><td>37.5</td><td>33.5</td><td>37.5</td><td>35.433424</td><td>35.5</td><td>814.96875</td><td>35.1875</td><td>35.84375</td><td>33.90625</td><td>36.59375</td><td>33.0</td><td>37.125</td><td>35.328804</td><td>35.5</td><td>812.5625</td><td>34.9375</td><td>35.96875</td><td>34.1875</td><td>37.8125</td><td>33.71875</td><td>37.8125</td><td>35.799592</td><td>35.84375</td><td>823.390625</td><td>35.296875</td><td>36.375</td><td>33.4375</td><td>36.53125</td><td>32.875</td><td>36.75</td><td>34.874321</td><td>35.03125</td><td>802.109375</td><td>34.265625</td><td>35.5625</td><td>0.75</td><td>1.28125</td><td>0.53125</td><td>1.5</td><td>0.925272</td><td>0.84375</td><td>21.28125</td><td>0.75</td><td>1.0625</td><td>0.28125</td><td>-0.90625</td><td>-1.1875</td><td>0.875</td><td>-0.10462</td><td>0.0</td><td>-2.40625</td><td>-0.25</td><td>0.28125</td></tr><tr><td>1999-04-01</td><td>318500</td><td>760000</td><td>244500</td><td>1699200</td><td>704919.047619</td><td>606900.0</td><td>14803300</td><td>413000.0</td><td>1.0035e6</td><td>37.5</td><td>37.75</td><td>34.8125</td><td>39.5</td><td>37.780506</td><td>37.75</td><td>793.390625</td><td>37.5</td><td>38.5625</td><td>37.171875</td><td>36.8125</td><td>34.4375</td><td>39.0625</td><td>37.520833</td><td>37.8125</td><td>787.9375</td><td>36.875</td><td>38.453125</td><td>37.53125</td><td>37.75</td><td>35.375</td><td>39.5625</td><td>38.123512</td><td>38.40625</td><td>800.59375</td><td>37.53125</td><td>39.0</td><td>36.5</td><td>35.9375</td><td>34.125</td><td>38.6875</td><td>36.879464</td><td>37.25</td><td>774.46875</td><td>36.09375</td><td>37.875</td><td>1.03125</td><td>1.8125</td><td>0.671875</td><td>2.46875</td><td>1.244048</td><td>1.25</td><td>26.125</td><td>0.96875</td><td>1.3125</td><td>-0.328125</td><td>-0.9375</td><td>-2.125</td><td>0.9375</td><td>-0.259673</td><td>-0.125</td><td>-5.453125</td><td>-0.8125</td><td>0.375</td></tr><tr><td>1999-05-01</td><td>201600</td><td>132900</td><td>132900</td><td>1434900</td><td>428825.0</td><td>363000.0</td><td>8576500</td><td>276000.0</td><td>443100.0</td><td>37.0</td><td>36.46875</td><td>36.4375</td><td>38.875</td><td>37.486719</td><td>37.328125</td><td>749.734375</td><td>36.96875</td><td>37.875</td><td>37.125</td><td>36.9375</td><td>35.984375</td><td>38.625</td><td>37.377344</td><td>37.3125</td><td>747.546875</td><td>36.75</td><td>38.0</td><td>37.25</td><td>36.9375</td><td>36.75</td><td>39.28125</td><td>37.838281</td><td>37.75</td><td>756.765625</td><td>37.25</td><td>38.25</td><td>36.59375</td><td>36.15625</td><td>35.375</td><td>38.46875</td><td>36.890625</td><td>36.851562</td><td>737.8125</td><td>36.25</td><td>37.5</td><td>0.65625</td><td>0.78125</td><td>0.578125</td><td>1.5625</td><td>0.947656</td><td>0.796875</td><td>18.953125</td><td>0.71875</td><td>1.125</td><td>0.125</td><td>0.46875</td><td>-1.015625</td><td>0.75</td><td>-0.109375</td><td>-0.0625</td><td>-2.1875</td><td>-0.375</td><td>0.15625</td></tr><tr><td>1999-06-01</td><td>318800</td><td>315100</td><td>105400</td><td>757000</td><td>325300.0</td><td>298500.0</td><td>7156600</td><td>250000.0</td><td>415400.0</td><td>36.984375</td><td>39.859375</td><td>35.9375</td><td>39.9375</td><td>37.977273</td><td>37.8125</td><td>835.5</td><td>36.984375</td><td>39.125</td><td>36.109375</td><td>40.484375</td><td>36.109375</td><td>40.484375</td><td>38.089489</td><td>38.148438</td><td>837.96875</td><td>36.78125</td><td>39.203125</td><td>36.984375</td><td>40.625</td><td>36.6875</td><td>40.625</td><td>38.450994</td><td>38.359375</td><td>845.921875</td><td>37.4375</td><td>39.4375</td><td>36.0625</td><td>39.453125</td><td>35.46875</td><td>39.453125</td><td>37.613636</td><td>37.617188</td><td>827.5</td><td>36.375</td><td>38.625</td><td>0.921875</td><td>1.171875</td><td>0.546875</td><td>1.21875</td><td>0.837358</td><td>0.8671875</td><td>18.421875</td><td>0.625</td><td>0.984375</td><td>-0.875</td><td>0.625</td><td>-0.875</td><td>1.078125</td><td>0.112216</td><td>0.328125</td><td>2.46875</td><td>-0.484375</td><td>0.5625</td></tr><tr><td>1999-07-01</td><td>473400</td><td>300900</td><td>100400</td><td>808300</td><td>365333.333333</td><td>379200.0</td><td>7672000</td><td>234400.0</td><td>466600.0</td><td>40.65625</td><td>40.8125</td><td>40.125</td><td>43.90625</td><td>41.776042</td><td>41.5</td><td>877.296875</td><td>40.8125</td><td>42.875</td><td>40.9375</td><td>40.015625</td><td>39.765625</td><td>43.84375</td><td>41.727679</td><td>41.515625</td><td>876.28125</td><td>40.75</td><td>42.734375</td><td>41.125</td><td>40.953125</td><td>40.4375</td><td>44.0</td><td>42.148065</td><td>42.125</td><td>885.109375</td><td>41.125</td><td>43.03125</td><td>40.09375</td><td>40.0</td><td>39.71875</td><td>43.375</td><td>41.280506</td><td>41.0625</td><td>866.890625</td><td>40.296875</td><td>42.15625</td><td>1.03125</td><td>0.953125</td><td>0.546875</td><td>1.875</td><td>0.86756</td><td>0.75</td><td>18.21875</td><td>0.65625</td><td>0.953125</td><td>0.28125</td><td>-0.796875</td><td>-1.59375</td><td>0.84375</td><td>-0.048363</td><td>0.109375</td><td>-1.015625</td><td>-0.359375</td><td>0.296875</td></tr><tr><td>1999-08-01</td><td>319400</td><td>451300</td><td>172100</td><td>879800</td><td>409331.818182</td><td>404450.0</td><td>9005300</td><td>268700.0</td><td>487600.0</td><td>39.8125</td><td>41.09375</td><td>39.078125</td><td>42.6875</td><td>40.487926</td><td>40.28125</td><td>890.734375</td><td>39.78125</td><td>41.1875</td><td>39.9375</td><td>41.421875</td><td>38.515625</td><td>42.5</td><td>40.388494</td><td>40.203125</td><td>888.546875</td><td>39.625</td><td>41.0625</td><td>40.734375</td><td>41.625</td><td>39.25</td><td>42.6875</td><td>40.851562</td><td>40.664062</td><td>898.734375</td><td>40.1875</td><td>41.625</td><td>39.78125</td><td>40.5</td><td>37.9375</td><td>41.9375</td><td>39.958807</td><td>39.84375</td><td>879.09375</td><td>39.234375</td><td>40.5</td><td>0.953125</td><td>1.125</td><td>0.40625</td><td>1.3125</td><td>0.892756</td><td>0.9765625</td><td>19.640625</td><td>0.703125</td><td>1.078125</td><td>0.125</td><td>0.328125</td><td>-0.875</td><td>0.625</td><td>-0.099432</td><td>-0.09375</td><td>-2.1875</td><td>-0.5625</td><td>0.4375</td></tr><tr><td>1999-09-01</td><td>594400</td><td>385800</td><td>168500</td><td>1041800</td><td>481219.047619</td><td>410700.0</td><td>10105600</td><td>289000.0</td><td>603700.0</td><td>41.71875</td><td>41.25</td><td>40.65625</td><td>43.921875</td><td>42.502232</td><td>42.890625</td><td>892.546875</td><td>41.71875</td><td>43.125</td><td>41.640625</td><td>41.25</td><td>40.9375</td><td>43.5625</td><td>42.328869</td><td>42.53125</td><td>888.90625</td><td>41.515625</td><td>43.015625</td><td>41.921875</td><td>41.59375</td><td>41.125</td><td>43.9375</td><td>42.819196</td><td>43.0625</td><td>899.203125</td><td>41.921875</td><td>43.546875</td><td>41.375</td><td>40.75</td><td>40.0625</td><td>43.21875</td><td>41.885417</td><td>42.25</td><td>879.59375</td><td>40.9375</td><td>42.671875</td><td>0.546875</td><td>0.84375</td><td>0.546875</td><td>2.359375</td><td>0.93378</td><td>0.8125</td><td>19.609375</td><td>0.6875</td><td>0.984375</td><td>-0.078125</td><td>0.0</td><td>-2.0</td><td>0.5</td><td>-0.173363</td><td>-0.078125</td><td>-3.640625</td><td>-0.359375</td><td>0.203125</td></tr><tr><td>1999-10-01</td><td>952500</td><td>816800</td><td>162500</td><td>1505900</td><td>648790.47619</td><td>613100.0</td><td>13624600</td><td>398400.0</td><td>816800.0</td><td>41.0625</td><td>41.6875</td><td>39.125</td><td>42.984375</td><td>41.084077</td><td>41.0625</td><td>862.765625</td><td>39.984375</td><td>42.25</td><td>41.0</td><td>42.5</td><td>38.875</td><td>42.9375</td><td>41.039435</td><td>40.984375</td><td>861.828125</td><td>39.953125</td><td>42.25</td><td>41.21875</td><td>42.75</td><td>39.84375</td><td>43.203125</td><td>41.434524</td><td>41.21875</td><td>870.125</td><td>40.4375</td><td>42.71875</td><td>40.359375</td><td>41.6875</td><td>38.46875</td><td>42.625</td><td>40.502976</td><td>40.3125</td><td>850.5625</td><td>39.5625</td><td>41.625</td><td>0.859375</td><td>1.0625</td><td>0.578125</td><td>1.5</td><td>0.931548</td><td>0.890625</td><td>19.5625</td><td>0.734375</td><td>1.0625</td><td>-0.0625</td><td>0.8125</td><td>-1.0625</td><td>0.8125</td><td>-0.044643</td><td>-0.03125</td><td>-0.9375</td><td>-0.375</td><td>0.328125</td></tr><tr><td>1999-11-01</td><td>230800</td><td>436200</td><td>156300</td><td>981500</td><td>457166.666667</td><td>436200.0</td><td>9600500</td><td>295500.0</td><td>583900.0</td><td>42.625</td><td>47.875</td><td>42.4375</td><td>48.390625</td><td>45.479167</td><td>45.40625</td><td>955.0625</td><td>43.5</td><td>47.28125</td><td>42.4375</td><td>46.671875</td><td>42.25</td><td>48.53125</td><td>45.467262</td><td>45.25</td><td>954.8125</td><td>43.671875</td><td>47.421875</td><td>42.96875</td><td>48.109375</td><td>42.9375</td><td>49.0</td><td>45.909226</td><td>45.625</td><td>964.09375</td><td>44.296875</td><td>48.0</td><td>42.40625</td><td>46.46875</td><td>42.140625</td><td>48.390625</td><td>44.980655</td><td>44.859375</td><td>944.59375</td><td>43.46875</td><td>46.75</td><td>0.5625</td><td>1.640625</td><td>0.484375</td><td>1.640625</td><td>0.928571</td><td>0.875</td><td>19.5</td><td>0.609375</td><td>1.203125</td><td>-0.1875</td><td>-1.203125</td><td>-1.203125</td><td>0.921875</td><td>-0.011905</td><td>-0.1875</td><td>-0.25</td><td>-0.359375</td><td>0.40625</td></tr><tr><td>&hellip;</td><td>&hellip;</td><td>&hellip;</td><td>&hellip;</td><td>&hellip;</td><td>&hellip;</td><td>&hellip;</td><td>&hellip;</td><td>&hellip;</td><td>&hellip;</td><td>&hellip;</td><td>&hellip;</td><td>&hellip;</td><td>&hellip;</td><td>&hellip;</td><td>&hellip;</td><td>&hellip;</td><td>&hellip;</td><td>&hellip;</td><td>&hellip;</td><td>&hellip;</td><td>&hellip;</td><td>&hellip;</td><td>&hellip;</td><td>&hellip;</td><td>&hellip;</td><td>&hellip;</td><td>&hellip;</td><td>&hellip;</td><td>&hellip;</td><td>&hellip;</td><td>&hellip;</td><td>&hellip;</td><td>&hellip;</td><td>&hellip;</td><td>&hellip;</td><td>&hellip;</td><td>&hellip;</td><td>&hellip;</td><td>&hellip;</td><td>&hellip;</td><td>&hellip;</td><td>&hellip;</td><td>&hellip;</td><td>&hellip;</td><td>&hellip;</td><td>&hellip;</td><td>&hellip;</td><td>&hellip;</td><td>&hellip;</td><td>&hellip;</td><td>&hellip;</td><td>&hellip;</td><td>&hellip;</td><td>&hellip;</td><td>&hellip;</td><td>&hellip;</td><td>&hellip;</td><td>&hellip;</td><td>&hellip;</td><td>&hellip;</td><td>&hellip;</td><td>&hellip;</td><td>&hellip;</td></tr><tr><td>2023-01-01</td><td>7598100</td><td>4435800</td><td>4435800</td><td>11736300</td><td>6.922375e6</td><td>6.89585e6</td><td>138447500</td><td>5.6705e6</td><td>7.3225e6</td><td>125.769997</td><td>134.089996</td><td>122.25</td><td>135.300003</td><td>129.423501</td><td>129.125</td><td>2588.470024</td><td>125.870003</td><td>132.0</td><td>123.260002</td><td>135.960007</td><td>121.18</td><td>136.699997</td><td>130.041001</td><td>130.305</td><td>2600.820023</td><td>126.959999</td><td>134.089996</td><td>126.599998</td><td>136.020004</td><td>123.279999</td><td>137.660004</td><td>131.022002</td><td>131.075005</td><td>2620.440041</td><td>128.479996</td><td>134.779999</td><td>122.379997</td><td>134.0</td><td>120.809998</td><td>135.210007</td><td>128.422999</td><td>128.324997</td><td>2568.459984</td><td>125.809998</td><td>131.570007</td><td>4.220001</td><td>2.020004</td><td>1.410004</td><td>4.480003</td><td>2.599003</td><td>2.300003</td><td>51.980057</td><td>2.020004</td><td>3.210007</td><td>-2.509995</td><td>1.87001</td><td>-2.509995</td><td>2.819992</td><td>0.6175</td><td>0.800003</td><td>12.349998</td><td>-0.32</td><td>1.800003</td></tr><tr><td>2023-02-01</td><td>9426400</td><td>5242900</td><td>4205900</td><td>9426400</td><td>6.4911e6</td><td>6.312e6</td><td>123330700</td><td>5.3033e6</td><td>7.1737e6</td><td>135.860001</td><td>136.380005</td><td>135.860001</td><td>144.0</td><td>139.887368</td><td>140.25</td><td>2657.860001</td><td>137.949997</td><td>142.0</td><td>139.160004</td><td>136.520004</td><td>136.089996</td><td>144.089996</td><td>140.168948</td><td>140.380005</td><td>2663.210007</td><td>138.559998</td><td>142.809998</td><td>140.270004</td><td>137.839996</td><td>136.679993</td><td>144.589996</td><td>141.417368</td><td>141.300003</td><td>2686.929993</td><td>139.080002</td><td>144.089996</td><td>135.210007</td><td>136.139999</td><td>135.210007</td><td>142.210007</td><td>138.850527</td><td>139.509995</td><td>2638.160019</td><td>136.570007</td><td>140.889999</td><td>5.059998</td><td>1.699997</td><td>1.37999</td><td>5.059998</td><td>2.566841</td><td>2.279999</td><td>48.769974</td><td>1.809998</td><td>3.069992</td><td>3.300003</td><td>0.139999</td><td>-2.970001</td><td>3.300003</td><td>0.281579</td><td>-0.01001</td><td>5.350006</td><td>-0.479996</td><td>1.420013</td></tr><tr><td>2023-03-01</td><td>7534700</td><td>7534900</td><td>4984000</td><td>17219700</td><td>8.4335e6</td><td>7.2198e6</td><td>193970600</td><td>6.5332e6</td><td>1.06011e7</td><td>136.580002</td><td>148.699997</td><td>134.919998</td><td>148.699997</td><td>141.742174</td><td>141.039993</td><td>3260.069992</td><td>138.270004</td><td>145.080002</td><td>135.520004</td><td>151.009995</td><td>135.520004</td><td>151.009995</td><td>142.129566</td><td>143.25</td><td>3268.980026</td><td>139.660004</td><td>144.830002</td><td>136.800003</td><td>151.149994</td><td>136.800003</td><td>151.149994</td><td>143.28826</td><td>143.710007</td><td>3295.62999</td><td>140.149994</td><td>146.679993</td><td>135.100006</td><td>148.509995</td><td>134.080002</td><td>148.509995</td><td>140.676522</td><td>140.699997</td><td>3235.560013</td><td>137.929993</td><td>144.160004</td><td>1.699997</td><td>2.639999</td><td>1.209991</td><td>5.070007</td><td>2.611738</td><td>2.449997</td><td>60.069977</td><td>1.889999</td><td>3.12001</td><td>-1.059998</td><td>2.309998</td><td>-2.229996</td><td>4.410004</td><td>0.387393</td><td>0.5</td><td>8.910034</td><td>-0.479996</td><td>1.589996</td></tr><tr><td>2023-04-01</td><td>10571100</td><td>5893000</td><td>4153000</td><td>10571100</td><td>6.2622e6</td><td>6.1188e6</td><td>118981500</td><td>5.5113e6</td><td>6.8209e6</td><td>150.089996</td><td>149.210007</td><td>146.389999</td><td>150.990005</td><td>148.279474</td><td>148.300003</td><td>2817.309998</td><td>147.320007</td><td>149.210007</td><td>150.770004</td><td>150.830002</td><td>143.970001</td><td>150.830002</td><td>148.461053</td><td>148.990005</td><td>2820.76001</td><td>147.759995</td><td>149.479996</td><td>150.979996</td><td>150.860001</td><td>146.669998</td><td>151.509995</td><td>149.332105</td><td>149.369995</td><td>2837.309998</td><td>148.990005</td><td>149.869995</td><td>149.369995</td><td>149.050003</td><td>143.919998</td><td>149.380005</td><td>147.272105</td><td>147.160004</td><td>2798.169998</td><td>146.509995</td><td>148.100006</td><td>1.610001</td><td>1.809998</td><td>1.229996</td><td>2.880005</td><td>2.06</td><td>2.12999</td><td>39.139999</td><td>1.729996</td><td>2.519989</td><td>0.680008</td><td>1.619995</td><td>-2.419998</td><td>2.410004</td><td>0.18158</td><td>0.169998</td><td>3.450012</td><td>-0.680008</td><td>1.400009</td></tr><tr><td>2023-05-01</td><td>4097200</td><td>9650500</td><td>3397800</td><td>9650500</td><td>5.8895e6</td><td>5.63895e6</td><td>129568900</td><td>4.6991e6</td><td>6.2366e6</td><td>150.710007</td><td>164.710007</td><td>147.660004</td><td>167.199997</td><td>154.143184</td><td>151.785004</td><td>3391.15004</td><td>150.949997</td><td>157.009995</td><td>150.919998</td><td>164.279999</td><td>147.539993</td><td>165.660004</td><td>154.500908</td><td>152.279999</td><td>3399.019974</td><td>150.949997</td><td>157.550003</td><td>151.649994</td><td>166.259995</td><td>148.539993</td><td>168.039993</td><td>155.357271</td><td>152.709999</td><td>3417.85997</td><td>151.580002</td><td>157.860001</td><td>150.470001</td><td>164.190002</td><td>146.929993</td><td>165.309998</td><td>153.31818</td><td>151.25</td><td>3372.999969</td><td>149.839996</td><td>156.75</td><td>1.179993</td><td>2.069992</td><td>0.770004</td><td>4.450012</td><td>2.039091</td><td>1.834999</td><td>44.860001</td><td>1.440002</td><td>2.540009</td><td>0.209991</td><td>-0.430008</td><td>-1.590012</td><td>4.139999</td><td>0.357724</td><td>0.149994</td><td>7.869934</td><td>-0.430008</td><td>1.099991</td></tr><tr><td>2023-06-01</td><td>8709700</td><td>5697800</td><td>4564100</td><td>8866300</td><td>6.8184e6</td><td>6.9165e6</td><td>143186400</td><td>5.6858e6</td><td>7.6121e6</td><td>163.759995</td><td>172.839996</td><td>163.660004</td><td>176.289993</td><td>168.816666</td><td>168.399994</td><td>3545.149979</td><td>166.800003</td><td>171.020004</td><td>165.949997</td><td>173.860001</td><td>163.419998</td><td>174.630005</td><td>169.226666</td><td>169.619995</td><td>3553.759979</td><td>166.009995</td><td>171.139999</td><td>166.649994</td><td>174.300003</td><td>165.449997</td><td>176.300003</td><td>170.34381</td><td>170.570007</td><td>3577.220001</td><td>167.710007</td><td>171.759995</td><td>163.229996</td><td>172.710007</td><td>163.080002</td><td>173.020004</td><td>167.875715</td><td>167.949997</td><td>3525.390015</td><td>165.649994</td><td>169.860001</td><td>3.419998</td><td>1.589996</td><td>1.339996</td><td>3.789993</td><td>2.468095</td><td>2.26001</td><td>51.829987</td><td>1.949997</td><td>2.959991</td><td>2.190002</td><td>1.020004</td><td>-3.099991</td><td>2.919998</td><td>0.41</td><td>0.25</td><td>8.610001</td><td>-0.480011</td><td>1.960007</td></tr><tr><td>2023-07-01</td><td>3091100</td><td>5069200</td><td>3091100</td><td>12178000</td><td>6.613645e6</td><td>5.87025e6</td><td>132272900</td><td>5.4011e6</td><td>7.7508e6</td><td>173.830002</td><td>178.100006</td><td>170.589996</td><td>180.710007</td><td>175.591</td><td>176.639999</td><td>3511.820007</td><td>173.75</td><td>177.339996</td><td>173.490005</td><td>178.350006</td><td>171.210007</td><td>180.259995</td><td>175.622502</td><td>176.095001</td><td>3512.450043</td><td>173.490005</td><td>177.940002</td><td>173.910004</td><td>178.570007</td><td>171.669998</td><td>181.460007</td><td>176.742001</td><td>177.705002</td><td>3534.840027</td><td>173.910004</td><td>178.759995</td><td>172.610001</td><td>177.330002</td><td>169.940002</td><td>179.119995</td><td>174.481</td><td>175.150002</td><td>3489.619995</td><td>172.610001</td><td>176.119995</td><td>1.300003</td><td>1.240005</td><td>1.240005</td><td>4.230011</td><td>2.261002</td><td>2.035004</td><td>45.220032</td><td>1.729996</td><td>2.340012</td><td>-0.339996</td><td>0.25</td><td>-2.889999</td><td>2.429993</td><td>0.031502</td><td>0.074997</td><td>0.630035</td><td>-0.529999</td><td>1.070007</td></tr><tr><td>2023-08-01</td><td>4422900</td><td>5981700</td><td>4422900</td><td>7909300</td><td>6.0021e6</td><td>5.9817e6</td><td>138048400</td><td>5.164e6</td><td>6.8569e6</td><td>177.770004</td><td>175.210007</td><td>163.039993</td><td>177.770004</td><td>170.257391</td><td>169.619995</td><td>3915.919998</td><td>167.679993</td><td>172.929993</td><td>178.649994</td><td>175.660004</td><td>164.710007</td><td>178.649994</td><td>170.123913</td><td>169.559998</td><td>3912.849991</td><td>167.919998</td><td>173.5</td><td>179.029999</td><td>176.330002</td><td>165.630005</td><td>179.029999</td><td>171.545652</td><td>170.550003</td><td>3945.550003</td><td>169.639999</td><td>173.970001</td><td>177.300003</td><td>175.020004</td><td>162.940002</td><td>177.300003</td><td>168.822609</td><td>167.550003</td><td>3882.920013</td><td>166.330002</td><td>170.889999</td><td>1.729996</td><td>1.309998</td><td>1.309998</td><td>6.229996</td><td>2.723043</td><td>2.690002</td><td>62.62999</td><td>2.060013</td><td>3.25</td><td>0.87999</td><td>0.449997</td><td>-6.090012</td><td>3.899994</td><td>-0.133479</td><td>0.099991</td><td>-3.070007</td><td>-1.259995</td><td>1.279999</td></tr><tr><td>2023-09-01</td><td>4622300</td><td>7941400</td><td>4118300</td><td>9071600</td><td>5.843815e6</td><td>5.6064e6</td><td>116876300</td><td>4.9719e6</td><td>6.4147e6</td><td>176.759995</td><td>164.979996</td><td>161.449997</td><td>176.759995</td><td>169.324001</td><td>170.095001</td><td>3386.480011</td><td>164.850006</td><td>172.240005</td><td>176.199997</td><td>163.929993</td><td>161.970001</td><td>176.830002</td><td>168.981499</td><td>169.305</td><td>3379.62999</td><td>164.410004</td><td>172.429993</td><td>176.990005</td><td>166.509995</td><td>163.070007</td><td>177.380005</td><td>170.288001</td><td>170.790001</td><td>3405.760025</td><td>166.020004</td><td>172.850006</td><td>175.300003</td><td>163.369995</td><td>160.610001</td><td>175.300003</td><td>167.974001</td><td>168.224998</td><td>3359.480011</td><td>163.979996</td><td>171.080002</td><td>1.690002</td><td>3.139999</td><td>1.559998</td><td>3.720001</td><td>2.314001</td><td>2.115005</td><td>46.280014</td><td>1.880005</td><td>2.62001</td><td>-0.559998</td><td>-1.050003</td><td>-3.119995</td><td>1.919998</td><td>-0.342501</td><td>-0.449997</td><td>-6.850021</td><td>-1.050003</td><td>0.62999</td></tr><tr><td>2023-10-01</td><td>6828100</td><td>5446800</td><td>5194600</td><td>10323200</td><td>7.4711e6</td><td>7.58555e6</td><td>164363300</td><td>6.5696e6</td><td>7.7648e6</td><td>164.009995</td><td>162.929993</td><td>161.169998</td><td>171.419998</td><td>166.055</td><td>165.474998</td><td>3653.209991</td><td>163.600006</td><td>168.389999</td><td>165.690002</td><td>164.009995</td><td>160.190002</td><td>171.080002</td><td>166.131819</td><td>165.474998</td><td>3654.900024</td><td>163.940002</td><td>169.089996</td><td>166.169998</td><td>164.149994</td><td>162.75</td><td>172.830002</td><td>167.585001</td><td>166.525002</td><td>3686.870026</td><td>165.399994</td><td>170.339996</td><td>163.759995</td><td>161.660004</td><td>159.5</td><td>169.779999</td><td>164.645454</td><td>163.639999</td><td>3622.199982</td><td>162.039993</td><td>167.029999</td><td>2.410004</td><td>2.48999</td><td>1.669998</td><td>5.419998</td><td>2.939547</td><td>2.770004</td><td>64.670044</td><td>2.25</td><td>3.440002</td><td>1.680008</td><td>1.080002</td><td>-3.410004</td><td>4.220001</td><td>0.07682</td><td>0.355003</td><td>1.690033</td><td>-1.630005</td><td>1.339996</td></tr><tr><td>2023-11-01</td><td>10472900</td><td>6872000</td><td>2096900</td><td>10472900</td><td>6.3190e6</td><td>6.5149e6</td><td>132699900</td><td>5.5496e6</td><td>6.872e6</td><td>164.300003</td><td>185.660004</td><td>164.300003</td><td>186.100006</td><td>179.047145</td><td>181.910004</td><td>3759.990036</td><td>175.380005</td><td>184.149994</td><td>167.179993</td><td>185.160004</td><td>167.179993</td><td>185.449997</td><td>179.685713</td><td>182.270004</td><td>3773.399979</td><td>174.949997</td><td>184.410004</td><td>167.399994</td><td>185.910004</td><td>167.399994</td><td>186.899994</td><td>180.381904</td><td>183.130005</td><td>3788.019989</td><td>176.059998</td><td>185.240005</td><td>164.300003</td><td>183.610001</td><td>164.300003</td><td>184.779999</td><td>178.364763</td><td>181.570007</td><td>3745.660019</td><td>174.580002</td><td>183.610001</td><td>3.099991</td><td>2.300003</td><td>0.909988</td><td>3.830002</td><td>2.017141</td><td>1.800003</td><td>42.35997</td><td>1.5</td><td>2.300003</td><td>2.87999</td><td>-0.5</td><td>-1.210007</td><td>3.51001</td><td>0.638569</td><td>0.389999</td><td>13.409943</td><td>-0.339996</td><td>1.319992</td></tr><tr><td>2023-12-01</td><td>6994300</td><td>5107500</td><td>4501800</td><td>18897700</td><td>7.9610e6</td><td>6.97935e6</td><td>127375900</td><td>5.668e6</td><td>7.7137e6</td><td>184.679993</td><td>192.350006</td><td>182.339996</td><td>192.360001</td><td>188.105625</td><td>188.795006</td><td>3009.690002</td><td>184.679993</td><td>191.360001</td><td>185.580002</td><td>192.050003</td><td>182.860001</td><td>192.580002</td><td>188.584376</td><td>189.604996</td><td>3017.350021</td><td>185.580002</td><td>191.699997</td><td>185.910004</td><td>192.610001</td><td>183.729996</td><td>193.039993</td><td>189.346875</td><td>190.635002</td><td>3029.550003</td><td>185.910004</td><td>192.279999</td><td>183.789993</td><td>191.100006</td><td>181.320007</td><td>191.699997</td><td>187.096873</td><td>188.385002</td><td>2993.549973</td><td>183.789993</td><td>190.190002</td><td>2.12001</td><td>1.509995</td><td>0.900009</td><td>3.399994</td><td>2.250002</td><td>2.210007</td><td>36.000031</td><td>2.050003</td><td>2.409988</td><td>0.900009</td><td>-0.300003</td><td>-2.710007</td><td>2.179993</td><td>0.478751</td><td>0.835007</td><td>7.660019</td><td>-0.300003</td><td>1.350006</td></tr></tbody></table></div>"
      ],
      "text/plain": [
       "shape: (301, 64)\n",
       "┌───────────┬───────────┬───────────┬───────────┬───┬───────────┬───────────┬───────────┬──────────┐\n",
       "│ date      ┆ first_vol ┆ last_volu ┆ min_volum ┆ … ┆ median_C- ┆ sum_C-O   ┆ quantile_ ┆ quantile │\n",
       "│ ---       ┆ ume       ┆ me        ┆ e         ┆   ┆ O         ┆ ---       ┆ 25_C-O    ┆ _75_C-O  │\n",
       "│ date      ┆ ---       ┆ ---       ┆ ---       ┆   ┆ ---       ┆ f64       ┆ ---       ┆ ---      │\n",
       "│           ┆ i64       ┆ i64       ┆ i64       ┆   ┆ f64       ┆           ┆ f64       ┆ f64      │\n",
       "╞═══════════╪═══════════╪═══════════╪═══════════╪═══╪═══════════╪═══════════╪═══════════╪══════════╡\n",
       "│ 1998-12-0 ┆ 300500    ┆ 77200     ┆ 77200     ┆ … ┆ -0.125    ┆ -0.953125 ┆ -0.125    ┆ 0.0625   │\n",
       "│ 1         ┆           ┆           ┆           ┆   ┆           ┆           ┆           ┆          │\n",
       "│ 1999-01-0 ┆ 650600    ┆ 933600    ┆ 295200    ┆ … ┆ 0.171875  ┆ 1.296875  ┆ -0.5625   ┆ 0.515625 │\n",
       "│ 1         ┆           ┆           ┆           ┆   ┆           ┆           ┆           ┆          │\n",
       "│ 1999-02-0 ┆ 913000    ┆ 2342600   ┆ 913000    ┆ … ┆ -0.28125  ┆ -6.140625 ┆ -0.796875 ┆ 0.15625  │\n",
       "│ 1         ┆           ┆           ┆           ┆   ┆           ┆           ┆           ┆          │\n",
       "│ 1999-03-0 ┆ 1092100   ┆ 774700    ┆ 321400    ┆ … ┆ 0.0       ┆ -2.40625  ┆ -0.25     ┆ 0.28125  │\n",
       "│ 1         ┆           ┆           ┆           ┆   ┆           ┆           ┆           ┆          │\n",
       "│ …         ┆ …         ┆ …         ┆ …         ┆ … ┆ …         ┆ …         ┆ …         ┆ …        │\n",
       "│ 2023-09-0 ┆ 4622300   ┆ 7941400   ┆ 4118300   ┆ … ┆ -0.449997 ┆ -6.850021 ┆ -1.050003 ┆ 0.62999  │\n",
       "│ 1         ┆           ┆           ┆           ┆   ┆           ┆           ┆           ┆          │\n",
       "│ 2023-10-0 ┆ 6828100   ┆ 5446800   ┆ 5194600   ┆ … ┆ 0.355003  ┆ 1.690033  ┆ -1.630005 ┆ 1.339996 │\n",
       "│ 1         ┆           ┆           ┆           ┆   ┆           ┆           ┆           ┆          │\n",
       "│ 2023-11-0 ┆ 10472900  ┆ 6872000   ┆ 2096900   ┆ … ┆ 0.389999  ┆ 13.409943 ┆ -0.339996 ┆ 1.319992 │\n",
       "│ 1         ┆           ┆           ┆           ┆   ┆           ┆           ┆           ┆          │\n",
       "│ 2023-12-0 ┆ 6994300   ┆ 5107500   ┆ 4501800   ┆ … ┆ 0.835007  ┆ 7.660019  ┆ -0.300003 ┆ 1.350006 │\n",
       "│ 1         ┆           ┆           ┆           ┆   ┆           ┆           ┆           ┆          │\n",
       "└───────────┴───────────┴───────────┴───────────┴───┴───────────┴───────────┴───────────┴──────────┘"
      ]
     },
     "execution_count": 2,
     "metadata": {},
     "output_type": "execute_result"
    }
   ],
   "source": [
    "monthly_stock_df(\"XLK\")"
   ]
  },
  {
   "cell_type": "markdown",
   "metadata": {},
   "source": [
    "Below is the API Key I will be using. \n",
    "\n",
    "*Note: I should find a way to \"hide\" this so I can still post this all on Github*."
   ]
  },
  {
   "cell_type": "code",
   "execution_count": null,
   "metadata": {},
   "outputs": [],
   "source": [
    "api_key = '4447961bacaaa3cd54858e4994a7006e'"
   ]
  },
  {
   "cell_type": "markdown",
   "metadata": {},
   "source": [
    "Here are the variables I am starting off with, but I can easily change this to get different outputs. One of the first things I want to mess with is how can I capitalize on data that is represented at different frequencies? For instance, if I want to construct a forecast that looks at the next 6 months, (i.e., looking at month intervals), how can I utilize the data shown in daily, quarterly, and yearly frequencies?"
   ]
  },
  {
   "cell_type": "code",
   "execution_count": null,
   "metadata": {},
   "outputs": [],
   "source": [
    "list_variables = [\n",
    "'JTSJOL',\n",
    "'UNRATE',\n",
    "'T10YIE',\n",
    "'GNPCA',\n",
    "]"
   ]
  },
  {
   "cell_type": "code",
   "execution_count": null,
   "metadata": {},
   "outputs": [
    {
     "data": {
      "text/html": [
       "<div><style>\n",
       ".dataframe > thead > tr,\n",
       ".dataframe > tbody > tr {\n",
       "  text-align: right;\n",
       "  white-space: pre-wrap;\n",
       "}\n",
       "</style>\n",
       "<small>shape: (5, 2)</small><table border=\"1\" class=\"dataframe\"><thead><tr><th>date</th><th>value</th></tr><tr><td>date</td><td>f32</td></tr></thead><tbody><tr><td>2000-12-01</td><td>5088.0</td></tr><tr><td>2001-01-01</td><td>5234.0</td></tr><tr><td>2001-02-01</td><td>5097.0</td></tr><tr><td>2001-03-01</td><td>4762.0</td></tr><tr><td>2001-04-01</td><td>4615.0</td></tr></tbody></table></div>"
      ],
      "text/plain": [
       "shape: (5, 2)\n",
       "┌────────────┬────────┐\n",
       "│ date       ┆ value  │\n",
       "│ ---        ┆ ---    │\n",
       "│ date       ┆ f32    │\n",
       "╞════════════╪════════╡\n",
       "│ 2000-12-01 ┆ 5088.0 │\n",
       "│ 2001-01-01 ┆ 5234.0 │\n",
       "│ 2001-02-01 ┆ 5097.0 │\n",
       "│ 2001-03-01 ┆ 4762.0 │\n",
       "│ 2001-04-01 ┆ 4615.0 │\n",
       "└────────────┴────────┘"
      ]
     },
     "execution_count": 5,
     "metadata": {},
     "output_type": "execute_result"
    }
   ],
   "source": [
    "df = pl.DataFrame(fred_req(api_key, list_variables[0]), schema=[(\"date\", str), (\"value\", str)])\\\n",
    "                .with_columns((pl.col(\"value\").cast(pl.Float32)).alias(\"value\"))\\\n",
    "                .with_columns((pl.col(\"date\").str.to_date(\"%Y-%m-%d\")))\n",
    "df.head()"
   ]
  },
  {
   "cell_type": "code",
   "execution_count": null,
   "metadata": {},
   "outputs": [
    {
     "data": {
      "text/html": [
       "<div><style>\n",
       ".dataframe > thead > tr,\n",
       ".dataframe > tbody > tr {\n",
       "  text-align: right;\n",
       "  white-space: pre-wrap;\n",
       "}\n",
       "</style>\n",
       "<small>shape: (5, 2)</small><table border=\"1\" class=\"dataframe\"><thead><tr><th>date</th><th>value</th></tr><tr><td>date</td><td>f32</td></tr></thead><tbody><tr><td>1948-01-01</td><td>3.4</td></tr><tr><td>1948-02-01</td><td>3.8</td></tr><tr><td>1948-03-01</td><td>4.0</td></tr><tr><td>1948-04-01</td><td>3.9</td></tr><tr><td>1948-05-01</td><td>3.5</td></tr></tbody></table></div>"
      ],
      "text/plain": [
       "shape: (5, 2)\n",
       "┌────────────┬───────┐\n",
       "│ date       ┆ value │\n",
       "│ ---        ┆ ---   │\n",
       "│ date       ┆ f32   │\n",
       "╞════════════╪═══════╡\n",
       "│ 1948-01-01 ┆ 3.4   │\n",
       "│ 1948-02-01 ┆ 3.8   │\n",
       "│ 1948-03-01 ┆ 4.0   │\n",
       "│ 1948-04-01 ┆ 3.9   │\n",
       "│ 1948-05-01 ┆ 3.5   │\n",
       "└────────────┴───────┘"
      ]
     },
     "execution_count": 6,
     "metadata": {},
     "output_type": "execute_result"
    }
   ],
   "source": [
    "df2 = pl.DataFrame(fred_req(api_key, list_variables[1]), schema=[(\"date\", str), (\"value\", str)])\\\n",
    "                .with_columns((pl.col(\"value\").cast(pl.Float32)).alias(\"value\"),\\\n",
    "                                (pl.col(\"date\").str.to_date(\"%Y-%m-%d\")))\n",
    "\n",
    "df2.head()"
   ]
  },
  {
   "cell_type": "code",
   "execution_count": null,
   "metadata": {},
   "outputs": [],
   "source": [
    "df = full_fred_dataframe(api_key, list_variables)"
   ]
  },
  {
   "cell_type": "code",
   "execution_count": null,
   "metadata": {},
   "outputs": [],
   "source": [
    "def day_to_month(df:pl.DataFrame, col_name:str)->pl.DataFrame:\n",
    "    \"\"\"Takes in a polars dataframe and designated column name\n",
    "    to perform the necessary row operations to summarize daily\n",
    "    values into monthly representations.\n",
    "\n",
    "    Args:\n",
    "        df (pl.DataFrame): full polars dataframe\n",
    "        col_name (str): daily column for transformation\n",
    "\n",
    "    Returns:\n",
    "        pl.DataFrame: grouped object with summary stats\n",
    "    \"\"\"\n",
    "    # making sure data is sorted for new values\n",
    "    day_col = df[[\"date\", col_name]].sort(by=\"date\")\n",
    "    # changing date to monthly representation\n",
    "    day_col = day_col.with_columns(pl.col(\"date\").dt.strftime(\"%Y-%m\").str.to_date(\"%Y-%m\")).drop_nulls()\n",
    "    # Perform the aggregation\n",
    "    day_col = day_col.group_by(\"date\").agg(pl.col(col_name).first().name.prefix(\"first_\"),\n",
    "                                            pl.col(col_name).last().name.prefix(\"last_\"),\n",
    "                                            pl.col(col_name).min().name.prefix(\"min_\"),\n",
    "                                            pl.col(col_name).max().name.prefix(\"max_\"),\n",
    "                                            pl.col(col_name).mean().name.prefix(\"mean_\"),\n",
    "                                            pl.col(col_name).median().name.prefix(\"median_\"),\n",
    "                                            pl.col(col_name).sum().name.prefix(\"sum_\"),\n",
    "                                            pl.col(col_name).quantile(.25).name.prefix(\"quantile_25_\"),\n",
    "                                            pl.col(col_name).quantile(.75).name.prefix(\"quantile_75_\"),\n",
    "                                            ).sort(\"date\")\n",
    "    \n",
    "    return day_col"
   ]
  },
  {
   "cell_type": "code",
   "execution_count": null,
   "metadata": {},
   "outputs": [],
   "source": [
    "import functools as ft\n",
    "\n",
    "def monthly_df_transformations(df):\n",
    "\n",
    "    new_dfs = []\n",
    "\n",
    "    for col_name in list(df.columns):\n",
    "        if \"Daily\" in col_name:\n",
    "            new_dfs.append(day_to_month(df, col_name))\n",
    "        elif col_name==\"date\":\n",
    "            pass\n",
    "        else:\n",
    "            new_dfs.append(df[[\"date\", col_name]].drop_nulls())\n",
    "\n",
    "    df_joined = ft.reduce(lambda left, right: left.join(right, on='date', how='outer_coalesce'), new_dfs)\n",
    "\n",
    "    return df_joined"
   ]
  },
  {
   "cell_type": "code",
   "execution_count": null,
   "metadata": {},
   "outputs": [
    {
     "data": {
      "text/html": [
       "<div><style>\n",
       ".dataframe > thead > tr,\n",
       ".dataframe > tbody > tr {\n",
       "  text-align: right;\n",
       "  white-space: pre-wrap;\n",
       "}\n",
       "</style>\n",
       "<small>shape: (931, 13)</small><table border=\"1\" class=\"dataframe\"><thead><tr><th>date</th><th>Job Openings: Total Nonfarm (Monthly)</th><th>Unemployment Rate (Monthly)</th><th>first_10-Year Breakeven Inflation Rate (Daily)</th><th>last_10-Year Breakeven Inflation Rate (Daily)</th><th>min_10-Year Breakeven Inflation Rate (Daily)</th><th>max_10-Year Breakeven Inflation Rate (Daily)</th><th>mean_10-Year Breakeven Inflation Rate (Daily)</th><th>median_10-Year Breakeven Inflation Rate (Daily)</th><th>sum_10-Year Breakeven Inflation Rate (Daily)</th><th>quantile_25_10-Year Breakeven Inflation Rate (Daily)</th><th>quantile_75_10-Year Breakeven Inflation Rate (Daily)</th><th>Real Gross National Product (Annual)</th></tr><tr><td>date</td><td>f32</td><td>f32</td><td>f32</td><td>f32</td><td>f32</td><td>f32</td><td>f32</td><td>f32</td><td>f32</td><td>f32</td><td>f32</td><td>f32</td></tr></thead><tbody><tr><td>2003-04-01</td><td>108.0</td><td>0.0</td><td>0.82</td><td>0.73</td><td>0.0</td><td>0.83</td><td>0.739545</td><td>0.765</td><td>16.27</td><td>0.74</td><td>0.8</td><td>null</td></tr><tr><td>2003-05-01</td><td>289.0</td><td>0.1</td><td>0.75</td><td>0.6</td><td>0.0</td><td>0.75</td><td>0.630909</td><td>0.66</td><td>13.879999</td><td>0.61</td><td>0.69</td><td>null</td></tr><tr><td>2003-07-01</td><td>981.0</td><td>0.2</td><td>0.64</td><td>0.08</td><td>0.0</td><td>0.98</td><td>0.523913</td><td>0.63</td><td>12.050001</td><td>0.08</td><td>0.88</td><td>null</td></tr><tr><td>2003-08-01</td><td>190.0</td><td>0.1</td><td>0.04</td><td>0.16</td><td>0.0</td><td>0.98</td><td>0.172381</td><td>0.16</td><td>3.62</td><td>0.07</td><td>0.19</td><td>null</td></tr><tr><td>2003-09-01</td><td>91.0</td><td>0.1</td><td>0.0</td><td>0.01</td><td>0.0</td><td>0.2</td><td>0.084091</td><td>0.055</td><td>1.85</td><td>0.03</td><td>0.16</td><td>null</td></tr><tr><td>2003-10-01</td><td>305.0</td><td>0.0</td><td>0.0</td><td>0.4</td><td>0.0</td><td>0.4</td><td>0.204783</td><td>0.23</td><td>4.71</td><td>0.1</td><td>0.32</td><td>null</td></tr><tr><td>2003-12-01</td><td>414.0</td><td>0.7</td><td>0.32</td><td>0.27</td><td>0.0</td><td>0.37</td><td>0.271739</td><td>0.28</td><td>6.249999</td><td>0.24</td><td>0.33</td><td>null</td></tr><tr><td>2004-01-01</td><td>424.0</td><td>0.7</td><td>0.0</td><td>0.31</td><td>0.0</td><td>0.35</td><td>0.239091</td><td>0.265</td><td>5.26</td><td>0.22</td><td>0.31</td><td>5542.707031</td></tr><tr><td>2004-03-01</td><td>525.0</td><td>0.8</td><td>0.45</td><td>0.38</td><td>0.24</td><td>0.48</td><td>0.361304</td><td>0.35</td><td>8.309999</td><td>0.32</td><td>0.39</td><td>null</td></tr><tr><td>2004-04-01</td><td>511.0</td><td>0.6</td><td>0.43</td><td>0.42</td><td>0.0</td><td>0.52</td><td>0.424545</td><td>0.435</td><td>9.34</td><td>0.41</td><td>0.49</td><td>null</td></tr><tr><td>2004-06-01</td><td>337.0</td><td>0.6</td><td>0.74</td><td>0.52</td><td>0.0</td><td>0.74</td><td>0.560909</td><td>0.555</td><td>12.34</td><td>0.53</td><td>0.63</td><td>null</td></tr><tr><td>2004-07-01</td><td>814.0</td><td>0.5</td><td>0.53</td><td>0.49</td><td>0.0</td><td>0.53</td><td>0.452273</td><td>0.47</td><td>9.95</td><td>0.44</td><td>0.5</td><td>null</td></tr><tr><td>&hellip;</td><td>&hellip;</td><td>&hellip;</td><td>&hellip;</td><td>&hellip;</td><td>&hellip;</td><td>&hellip;</td><td>&hellip;</td><td>&hellip;</td><td>&hellip;</td><td>&hellip;</td><td>&hellip;</td><td>&hellip;</td></tr><tr><td>1930-01-01</td><td>null</td><td>null</td><td>null</td><td>null</td><td>null</td><td>null</td><td>null</td><td>null</td><td>null</td><td>null</td><td>null</td><td>100.669998</td></tr><tr><td>1934-01-01</td><td>null</td><td>null</td><td>null</td><td>null</td><td>null</td><td>null</td><td>null</td><td>null</td><td>null</td><td>null</td><td>null</td><td>78.188004</td></tr><tr><td>1946-01-01</td><td>null</td><td>null</td><td>null</td><td>null</td><td>null</td><td>null</td><td>null</td><td>null</td><td>null</td><td>null</td><td>null</td><td>221.509995</td></tr><tr><td>1945-01-01</td><td>null</td><td>null</td><td>null</td><td>null</td><td>null</td><td>null</td><td>null</td><td>null</td><td>null</td><td>null</td><td>null</td><td>509.981995</td></tr><tr><td>1942-01-01</td><td>null</td><td>null</td><td>null</td><td>null</td><td>null</td><td>null</td><td>null</td><td>null</td><td>null</td><td>null</td><td>null</td><td>8.853</td></tr><tr><td>1939-01-01</td><td>null</td><td>null</td><td>null</td><td>null</td><td>null</td><td>null</td><td>null</td><td>null</td><td>null</td><td>null</td><td>null</td><td>320.924011</td></tr><tr><td>1929-01-01</td><td>null</td><td>null</td><td>null</td><td>null</td><td>null</td><td>null</td><td>null</td><td>null</td><td>null</td><td>null</td><td>null</td><td>202.658997</td></tr><tr><td>1933-01-01</td><td>null</td><td>null</td><td>null</td><td>null</td><td>null</td><td>null</td><td>null</td><td>null</td><td>null</td><td>null</td><td>null</td><td>83.847</td></tr><tr><td>1935-01-01</td><td>null</td><td>null</td><td>null</td><td>null</td><td>null</td><td>null</td><td>null</td><td>null</td><td>null</td><td>null</td><td>null</td><td>65.716003</td></tr><tr><td>1938-01-01</td><td>null</td><td>null</td><td>null</td><td>null</td><td>null</td><td>null</td><td>null</td><td>null</td><td>null</td><td>null</td><td>null</td><td>222.966003</td></tr><tr><td>1947-01-01</td><td>null</td><td>null</td><td>null</td><td>null</td><td>null</td><td>null</td><td>null</td><td>null</td><td>null</td><td>null</td><td>null</td><td>199.313004</td></tr><tr><td>1941-01-01</td><td>null</td><td>null</td><td>null</td><td>null</td><td>null</td><td>null</td><td>null</td><td>null</td><td>null</td><td>null</td><td>null</td><td>690.843994</td></tr></tbody></table></div>"
      ],
      "text/plain": [
       "shape: (931, 13)\n",
       "┌───────────┬───────────┬───────────┬───────────┬───┬───────────┬───────────┬───────────┬──────────┐\n",
       "│ date      ┆ Job       ┆ Unemploym ┆ first_10- ┆ … ┆ sum_10-Ye ┆ quantile_ ┆ quantile_ ┆ Real     │\n",
       "│ ---       ┆ Openings: ┆ ent Rate  ┆ Year      ┆   ┆ ar        ┆ 25_10-Yea ┆ 75_10-Yea ┆ Gross    │\n",
       "│ date      ┆ Total     ┆ (Monthly) ┆ Breakeven ┆   ┆ Breakeven ┆ r         ┆ r         ┆ National │\n",
       "│           ┆ Nonfarm   ┆ ---       ┆ Inflatio… ┆   ┆ Inflation ┆ Breakeven ┆ Breakeven ┆ Product  │\n",
       "│           ┆ (Mon…     ┆ f32       ┆ ---       ┆   ┆ …         ┆ In…       ┆ In…       ┆ (Ann…    │\n",
       "│           ┆ ---       ┆           ┆ f32       ┆   ┆ ---       ┆ ---       ┆ ---       ┆ ---      │\n",
       "│           ┆ f32       ┆           ┆           ┆   ┆ f32       ┆ f32       ┆ f32       ┆ f32      │\n",
       "╞═══════════╪═══════════╪═══════════╪═══════════╪═══╪═══════════╪═══════════╪═══════════╪══════════╡\n",
       "│ 2003-04-0 ┆ 108.0     ┆ 0.0       ┆ 0.82      ┆ … ┆ 16.27     ┆ 0.74      ┆ 0.8       ┆ null     │\n",
       "│ 1         ┆           ┆           ┆           ┆   ┆           ┆           ┆           ┆          │\n",
       "│ 2003-05-0 ┆ 289.0     ┆ 0.1       ┆ 0.75      ┆ … ┆ 13.879999 ┆ 0.61      ┆ 0.69      ┆ null     │\n",
       "│ 1         ┆           ┆           ┆           ┆   ┆           ┆           ┆           ┆          │\n",
       "│ 2003-07-0 ┆ 981.0     ┆ 0.2       ┆ 0.64      ┆ … ┆ 12.050001 ┆ 0.08      ┆ 0.88      ┆ null     │\n",
       "│ 1         ┆           ┆           ┆           ┆   ┆           ┆           ┆           ┆          │\n",
       "│ 2003-08-0 ┆ 190.0     ┆ 0.1       ┆ 0.04      ┆ … ┆ 3.62      ┆ 0.07      ┆ 0.19      ┆ null     │\n",
       "│ 1         ┆           ┆           ┆           ┆   ┆           ┆           ┆           ┆          │\n",
       "│ …         ┆ …         ┆ …         ┆ …         ┆ … ┆ …         ┆ …         ┆ …         ┆ …        │\n",
       "│ 1935-01-0 ┆ null      ┆ null      ┆ null      ┆ … ┆ null      ┆ null      ┆ null      ┆ 65.71600 │\n",
       "│ 1         ┆           ┆           ┆           ┆   ┆           ┆           ┆           ┆ 3        │\n",
       "│ 1938-01-0 ┆ null      ┆ null      ┆ null      ┆ … ┆ null      ┆ null      ┆ null      ┆ 222.9660 │\n",
       "│ 1         ┆           ┆           ┆           ┆   ┆           ┆           ┆           ┆ 03       │\n",
       "│ 1947-01-0 ┆ null      ┆ null      ┆ null      ┆ … ┆ null      ┆ null      ┆ null      ┆ 199.3130 │\n",
       "│ 1         ┆           ┆           ┆           ┆   ┆           ┆           ┆           ┆ 04       │\n",
       "│ 1941-01-0 ┆ null      ┆ null      ┆ null      ┆ … ┆ null      ┆ null      ┆ null      ┆ 690.8439 │\n",
       "│ 1         ┆           ┆           ┆           ┆   ┆           ┆           ┆           ┆ 94       │\n",
       "└───────────┴───────────┴───────────┴───────────┴───┴───────────┴───────────┴───────────┴──────────┘"
      ]
     },
     "execution_count": 10,
     "metadata": {},
     "output_type": "execute_result"
    }
   ],
   "source": [
    "monthly_df_transformations(df)"
   ]
  },
  {
   "cell_type": "code",
   "execution_count": null,
   "metadata": {},
   "outputs": [],
   "source": [
    "col_name = \"10-Year Breakeven Inflation Rate (Daily)\"\n",
    "day_col = day_to_month(df, col_name)"
   ]
  }
 ],
 "metadata": {
  "kernelspec": {
   "display_name": "env",
   "language": "python",
   "name": "python3"
  },
  "language_info": {
   "codemirror_mode": {
    "name": "ipython",
    "version": 3
   },
   "file_extension": ".py",
   "mimetype": "text/x-python",
   "name": "python",
   "nbconvert_exporter": "python",
   "pygments_lexer": "ipython3",
   "version": "3.11.7"
  }
 },
 "nbformat": 4,
 "nbformat_minor": 2
}
